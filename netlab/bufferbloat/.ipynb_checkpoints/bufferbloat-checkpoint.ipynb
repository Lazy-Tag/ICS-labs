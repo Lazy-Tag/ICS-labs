{
 "cells": [
  {
   "cell_type": "markdown",
   "metadata": {},
   "source": [
    "# TCP拥塞控制和Bufferbloat\n"
   ]
  },
  {
   "cell_type": "markdown",
   "metadata": {},
   "source": [
    " 在本作业中，你将创建自己的模拟网络，以动态地研究TCP，以及网络操作员看似微不足道的配置决策是如何对网络性能产生重大影响的。\n",
    "\n",
    "TCP是一种在不可靠的分组交换网络上获得可靠传输的协议。TCP的一个重要组成部分是拥塞控制算法，比如限制终端主机发送速率，以防止网络基础设施不堪重负的流量。\n",
    "\n",
    "然而，即使终端主机使用TCP，网络也会遇到拥塞相关的性能问题。当路由器和交换机上的包缓冲区过大时，就会出现Bufferbloat的问题。\n",
    "\n",
    "在本作业中，您将使用Mininet(一个很有用的网络实验工具)来模拟一个小型网络，并收集与TCP拥塞控制和Bufferbloat相关的各种性能统计数据。这将允许你推断TCP和路由器配置对网络性能的影响。\n",
    "\n",
    "**请在下方填入你的姓名和学号:**\n",
    "胡博文\n",
    "2021201780\n"
   ]
  },
  {
   "cell_type": "markdown",
   "metadata": {},
   "source": [
    "## 背景\n",
    "\n",
    "#### TCP拥塞窗口\n",
    "TCP拥塞窗口大小参数，通常简写为“cwnd”，由发送方维护，并决定在任何时候有多少流量可以处于未完成状态(已发送但未被确认)。在TCP运行过程中，控制cwnd的值有很多算法，它们的目标都是在防止拥塞的同时最大化连接的吞吐量。\n",
    "\n",
    "#### Bufferbloat\n",
    "Bufferbloat是这样一种网络现象：网络中的交换设备使用了过大的缓冲区，进而导致高延迟和包延迟变化(抖动)。这种现象甚至可以发生在一个典型的家庭网络，如以下:\n",
    "<img width=600 src=\"figures/home-network.png\">\n",
    "在图中，家庭网络中的终端主机连接到家庭路由器。然后，家庭路由器通过电缆或DSL连接到由互联网服务提供商(ISP)运行的路由器。通过在Mininet中模拟和试验一个类似的网络，你将观察到bufferbloat是如何导致网络性能低下的。\n",
    "\n",
    "#### Mininet\n",
    "Mininet是一个网络模拟器，你可以使用它创建一个自定义的网络虚拟主机，交换机，控制器和链路，所有在一台计算机上。仿真网络中的虚拟设备可以运行真实的程序;任何可以在linux上运行的东西也可以在Mininet设备上运行。这使得Mininet成为快速、简单地模拟网络协议和测量的有价值的工具。这个[Mininet简介](https://github.com/mininet/mininet/wiki/Introduction-to-Mininet)是一个有用的指南，可以帮助你开始使用Mininet的Python API。如果你感兴趣，[Mininet网站](http://www.mininet.org)有更多的资源。"
   ]
  },
  {
   "cell_type": "markdown",
   "metadata": {},
   "source": [
    "## Part A: 网络仿真和数据度量\n",
    "首先，使用Mininet的Python API创建以下网络，这是一个典型的家庭网络:\n",
    "<img width=450 src=\"figures/mininet-topo.png\">\n",
    "图中h1是一个网络服务器，有一个高带宽连接(1Gb/s)到你的家用路由器。家用路由器的下行连接速度较慢(1.5Mb/s)。往返传播延迟，即h1和h2之间的最小RTT(round-trip time)为20ms。路由器缓冲区(队列)大小将是这个模拟中的自变量。\n",
    "\n",
    "在Mininet中创建自定义网络拓扑，我们扩展了Mininet.topo.Topo类。我们已经将交换机(路由器)添加到了网络中。你只需要添加h1、h2和具有适当特征的链接，以创建上面图像中指定的设置。Mininet指南的[使用Mininet](https://github.com/mininet/mininet/wiki/Introduction-to-Mininet#creating)部分的前几个小节描述了如何向网络拓扑中添加元素和设置参数。"
   ]
  },
  {
   "cell_type": "code",
   "execution_count": null,
   "metadata": {},
   "outputs": [],
   "source": [
    "from mininet.topo import Topo\n",
    "\n",
    "class BBTopo(Topo):\n",
    "    \"Simple topology for bufferbloat experiment.\"\n",
    "\n",
    "    def __init__(self, queue_size):\n",
    "        super(BBTopo, self).__init__()\n",
    "        \n",
    "        # Create switch s0 (the router)\n",
    "        self.addSwitch('s0')\n",
    "        \n",
    "        # TODO: Create two hosts with names 'h1' and 'h2'\n",
    "\n",
    "        \n",
    "        # TODO: Add links with appropriate bandwidth, delay, and queue size parameters. \n",
    "        #       Set the router queue size using the queue_size argument\n",
    "        #       Set bandwidths/latencies using the bandwidths and minimum RTT given in the network diagram above\n",
    "        \n",
    "        # Create switch s0 (the router)\n",
    "        self.addSwitch('s0')\n",
    "        \n",
    "        # Create two hosts with names 'h1' and 'h2'\n",
    "        h1 = self.addHost('h1')\n",
    "        h2 = self.addHost('h2')\n",
    "        \n",
    "        # Add links with appropriate bandwidth, delay, and queue size parameters\n",
    "        # Set the router queue size using the queue_size argument\n",
    "        # Set bandwidths/latencies using the bandwidths and minimum RTT given in the network diagram above\n",
    "        self.addLink(h1, 's0', bw=1.5, delay='20ms', max_queue_size=queue_size)\n",
    "        self.addLink('s0', h2, bw=1000, delay='20ms')\n",
    "        return"
   ]
  },
  {
   "cell_type": "markdown",
   "metadata": {},
   "source": [
    "接下来，我们需要两个辅助函数来生成两个主机之间的通信数据。下面的函数启动一个长生命周期的TCP流，使用PART A中的实现的客户端和服务端将数据从h1发送到h2，其功能类似[Iperf](https://iperf.fr/)。\n",
    "函数接收一个名为' net '的参数，它是我们在上面创建的带有BBTopo拓扑的mininet实例。我们已经编写了server(h2)的部分，server是接收数据的一方。你还需要补全该函数，以便client(h1)发送数据。通信的时长应该由'experiment_time'参数给出的秒数决定。\n",
    "\n",
    "调用client和server执行程序时，可以使用'popen'函数在mininet主机上运行shell命令。'popen'的第一个参数是一个字符串命令，就像你在shell中运行的那样。第二个参数应该是'shell=True'。"
   ]
  },
  {
   "cell_type": "code",
   "execution_count": null,
   "metadata": {},
   "outputs": [],
   "source": [
    "def start_tcp(net, experiment_time):\n",
    "    # Start a TCP server on host 'h2'\n",
    "    print(\"Starting server\")\n",
    "    h2 = net.get('h2')\n",
    "    server = h2.popen(\"./server\", shell=True)\n",
    "    \n",
    "    # Start a TCP client on host 'h1'\n",
    "    # Ensure that the client runs for experiment_time seconds\n",
    "    print(\"Starting client\")\n",
    "    h1 = net.get('h1')\n",
    "    client = h1.popen(\"./client -t {}\".format(experiment_time), shell=True)\n",
    "    \n",
    "    # Wait for the experiment to finish\n",
    "    sleep(experiment_time)\n",
    "    \n",
    "    # Terminate the client and server processes\n",
    "    client.terminate()\n",
    "    server.terminate()\n"
   ]
  },
  {
   "cell_type": "markdown",
   "metadata": {},
   "source": [
    "接下来，你需要完成以下函数，从h1到h2启动一个连续的ping来测量rtt。每0.1秒发送一次ping。结果应该从stdout重定向到outfile参数。\n",
    "\n",
    "和之前一样，'net'是一个带有BBTopo拓扑的mininet实例。你需要使用'popen'。'popen'的命令参数可以使用'>'重定向stdout，就像普通的shell命令一样。有关可用命令行参数的详细信息，请参阅'ping'的man手册。确保'popen'的第二个参数是'shell=True'。"
   ]
  },
  {
   "cell_type": "code",
   "execution_count": null,
   "metadata": {},
   "outputs": [],
   "source": [
    "def start_ping(net, outfile=\"pings.txt\"):\n",
    "    # Start a ping train from h1 to h2 with 0.1 seconds between pings, redirecting stdout to outfile\n",
    "    print(\"Starting ping train\")\n",
    "    h1 = net.get('h1')\n",
    "    h2 = net.get('h2')\n",
    "    ping_cmd = \"ping -i 0.1 {} > {}\".format(h2.IP(), outfile)\n",
    "    h1.popen(ping_cmd, shell=True)\n",
    "\n"
   ]
  },
  {
   "cell_type": "markdown",
   "metadata": {},
   "source": [
    "接下来，我们提供了一些辅助函数来监测TCP的拥塞窗口大小。这将让我们能够动态地分析在mininet网络中的TCP连接。以下函数已经完成。"
   ]
  },
  {
   "cell_type": "code",
   "execution_count": null,
   "metadata": {},
   "outputs": [],
   "source": [
    "from subprocess import Popen\n",
    "import os\n",
    "\n",
    "def start_tcpprobe(outfile=\"cwnd.txt\"):\n",
    "    Popen(\"sudo cat /proc/net/tcpprobe > \" + outfile, shell=True)\n",
    "\n",
    "def stop_tcpprobe():\n",
    "    Popen(\"killall -9 cat\", shell=True).wait()"
   ]
  },
  {
   "cell_type": "markdown",
   "metadata": {},
   "source": [
    "接下来，我们创建一个辅助函数来监测给定接口上的等待队列的长度。这将让我们分析路由器缓冲区队列中的数据包的数量以及它是如何影响网络性能的。此函数已经完成。"
   ]
  },
  {
   "cell_type": "code",
   "execution_count": null,
   "metadata": {},
   "outputs": [],
   "source": [
    "from multiprocessing import Process\n",
    "from monitor import monitor_qlen\n",
    "\n",
    "def start_qmon(iface, interval_sec=0.1, outfile=\"q.txt\"):\n",
    "    monitor = Process(target=monitor_qlen,\n",
    "                      args=(iface, interval_sec, outfile))\n",
    "    monitor.start()\n",
    "    return monitor"
   ]
  },
  {
   "cell_type": "markdown",
   "metadata": {},
   "source": [
    "我们还需要一个辅助函数，以在h1上启动一个web服务器。此函数已经完成。"
   ]
  },
  {
   "cell_type": "code",
   "execution_count": null,
   "metadata": {},
   "outputs": [],
   "source": [
    "from time import sleep\n",
    "\n",
    "def start_webserver(net):\n",
    "    h1 = net.get('h1')\n",
    "    proc = h1.popen(\"python http/webserver.py\", shell=True)\n",
    "    sleep(1)\n",
    "    return [proc]"
   ]
  },
  {
   "cell_type": "markdown",
   "metadata": {},
   "source": [
    "最后，我们需要一个在h2上运行的辅助函数，每3秒从h1获取一个网页，这个过程将持续experiment_time秒，并打印这短时间内下载时间的平均值和标准差。此函数已经完成。"
   ]
  },
  {
   "cell_type": "code",
   "execution_count": null,
   "metadata": {},
   "outputs": [],
   "source": [
    "from time import time\n",
    "from numpy import mean, std\n",
    "from time import sleep\n",
    "\n",
    "def fetch_webserver(net, experiment_time):\n",
    "    h2 = net.get('h2')\n",
    "    h1 = net.get('h1')\n",
    "    download_times = []\n",
    "    \n",
    "    start_time = time()\n",
    "    while True:\n",
    "        sleep(3)\n",
    "        now = time()\n",
    "        if now - start_time > experiment_time:\n",
    "            break\n",
    "        fetch = h2.popen(\"curl -o /dev/null -s -w %{time_total} \", h1.IP(), shell=True)\n",
    "        download_time, _ = fetch.communicate()\n",
    "        print \"Download time: {0}, {1:.1f}s left...\".format(download_time, experiment_time - (now-start_time))\n",
    "        download_times.append(float(download_time))\n",
    "        \n",
    "    average_time = mean(download_times)\n",
    "    std_time = std(download_times)\n",
    "    print \"\\nDownload Times: {}s average, {}s stddev\\n\".format(average_time, std_time)"
   ]
  },
  {
   "cell_type": "markdown",
   "metadata": {},
   "source": [
    "现在，我们需要把所有这些部分组合在一起。我们需要创建网络，启动所有的流量，并进行测量。\n",
    "\n",
    "下面的`bufferbloat()`函数需要做：\n",
    "* 创建一个`BBTopo`对象\n",
    "* 启动TCP\n",
    "* 启动cwnd窗口大小监测\n",
    "* 启动队列监测\n",
    "* 使用自己实现的client、server启动一个长生命周期的TCP流\n",
    "* 启动ping消息队列\n",
    "* 启动Web服务器\n",
    "* 周期性地从h1下载index.html网页，并测量所需时间\n",
    "\n",
    "需要注意的是，TCP流、ping序列和web服务器下载应该同时发生。如果你完成了之前的任务步骤，你需要完成在下面'bufferbloat()'函数中标记为'TODO'的部分。每个TODO部分都需要添加一行来调用上面定义的函数。"
   ]
  },
  {
   "cell_type": "code",
   "execution_count": null,
   "metadata": {},
   "outputs": [],
   "source": [
    "from mininet.node import CPULimitedHost, OVSController\n",
    "from mininet.link import TCLink\n",
    "from mininet.net import Mininet\n",
    "from mininet.log import lg, info\n",
    "from mininet.util import dumpNodeConnections\n",
    "\n",
    "from time import time\n",
    "import os\n",
    "from subprocess import call\n",
    "from multiprocessing import Process\n",
    "\n",
    "def bufferbloat(queue_size, experiment_time, experiment_name):\n",
    "    # Set the cwnd control algorithm to \"reno\"\n",
    "    os.system(\"sysctl -w net.ipv4.tcp_congestion_control=reno\")\n",
    "    \n",
    "    # create the topology and network\n",
    "    topo = BBTopo(queue_size)\n",
    "    net = Mininet(topo=topo, host=CPULimitedHost, link=TCLink, controller=OVSController)\n",
    "    net.start()\n",
    "\n",
    "    # Print the network topology\n",
    "    dumpNodeConnections(net.hosts)\n",
    "    \n",
    "    # Performs a basic all pairs ping test to ensure the network set up properly\n",
    "    net.pingAll()\n",
    "    \n",
    "    # Start monitoring TCP cwnd size\n",
    "    cwnd_outfile = \"{}_cwnd.txt\".format(experiment_name)\n",
    "    start_tcpprobe(cwnd_outfile)\n",
    "\n",
    "    # Start monitoring the queue sizes\n",
    "    qsize_outfile = \"{}_qsize.txt\".format(experiment_name)\n",
    "    iface = \"s0-eth2\"  # Adjust this based on the link order in BBTopo\n",
    "    qmon = start_qmon(iface, outfile=qsize_outfile)\n",
    "\n",
    "    # Start the long lived TCP connections\n",
    "    start_tcp(net, experiment_time)\n",
    "\n",
    "    # Start pings\n",
    "    pings_outfile = \"{}_pings.txt\".format(experiment_name)\n",
    "    start_ping(net, outfile=pings_outfile)\n",
    "\n",
    "    # Start the webserver\n",
    "    webserver_procs = start_webserver(net)\n",
    "\n",
    "    # Measure and print website download times\n",
    "    fetch_webserver(net, experiment_time)\n",
    "\n",
    "    # Stop probing and terminate processes\n",
    "    stop_tcpprobe()\n",
    "    qmon.terminate()\n",
    "    net.stop()\n",
    "\n",
    "    # Ensure that all processes you create within Mininet are killed.\n",
    "    for proc in webserver_procs:\n",
    "        proc.terminate()\n",
    "    Popen(\"pgrep -f webserver.py | xargs kill -9\", shell=True).wait()\n",
    "    call([\"mn\", \"-c\"])\n"
   ]
  },
  {
   "cell_type": "markdown",
   "metadata": {},
   "source": [
    "当你完成上述所有步骤后，使用bufferbloat()函数运行两次实验，一次队列大小为20个包，一次队列大小为100个包。确保运行实验的时间足够长，以便在结果中看到TCP的动态变化，比如cwnd的锯齿状行为(300秒应该就够了)。选择反映队列大小的experiment_name参数"
   ]
  },
  {
   "cell_type": "code",
   "execution_count": null,
   "metadata": {
    "scrolled": false
   },
   "outputs": [],
   "source": [
    "from subprocess import call\n",
    "\n",
    "call([\"mn\", \"-c\"])\n",
    "\n",
    "# Run bufferbloat experiment with queue size of 20 packets\n",
    "bufferbloat(20, 300, \"experiment_20_packets\")\n",
    "\n",
    "# Run bufferbloat experiment with queue size of 100 packets\n",
    "bufferbloat(100, 300, \"experiment_100_packets\")\n"
   ]
  },
  {
   "cell_type": "markdown",
   "metadata": {},
   "source": [
    "## Part B: 结果可视化\n",
    "\n",
    "在这一部分中，你将通过绘制拥塞窗口、队列长度和ping RTT随时间的变化来分析实验结果。我们为每个度量提供了绘图函数，这些函数在下面的'plot_measurements()'函数中调用，这个函数已经完成了。\n"
   ]
  },
  {
   "cell_type": "code",
   "execution_count": 32,
   "metadata": {},
   "outputs": [],
   "source": [
    "%matplotlib inline\n",
    "from plot_cwnd import plot_congestion_window\n",
    "from plot_qsize import plot_queue_length\n",
    "from plot_ping import plot_ping_rtt\n",
    "\n",
    "def plot_measurements(experiment_name_list, cwnd_histogram=False):\n",
    "    \n",
    "    # plot the congestion window over time\n",
    "    for name in experiment_name_list:\n",
    "        cwnd_file = \"{}_cwnd.txt\".format(name)\n",
    "        plot_congestion_window(cwnd_file, histogram=cwnd_histogram)\n",
    "    \n",
    "    # plot the queue size over time\n",
    "    for name in experiment_name_list:\n",
    "        qsize_file = \"{}_qsize.txt\".format(name)\n",
    "        plot_queue_length(qsize_file)\n",
    "    \n",
    "    # plot the ping RTT over time\n",
    "    for name in experiment_name_list:\n",
    "        ping_file = \"{}_pings.txt\".format(name)\n",
    "        plot_ping_rtt(ping_file)"
   ]
  },
  {
   "cell_type": "markdown",
   "metadata": {},
   "source": [
    "现在你需要调用'plot_measurements'函数，其中'experiment_name_list'参数是你在上面运行'bufferbloat()'时使用的'experiment_name'参数的列表。这个函数将生成6个带有实验结果的图。"
   ]
  },
  {
   "cell_type": "code",
   "execution_count": 33,
   "metadata": {
    "scrolled": false
   },
   "outputs": [],
   "source": [
    "#TODO: Call plot_measurements() to plot your results\n"
   ]
  }
 ],
 "metadata": {
  "kernelspec": {
   "display_name": "Python 2",
   "language": "python",
   "name": "python2"
  },
  "language_info": {
   "codemirror_mode": {
    "name": "ipython",
    "version": 2
   },
   "file_extension": ".py",
   "mimetype": "text/x-python",
   "name": "python",
   "nbconvert_exporter": "python",
   "pygments_lexer": "ipython2",
   "version": "2.7.12"
  }
 },
 "nbformat": 4,
 "nbformat_minor": 1
}
